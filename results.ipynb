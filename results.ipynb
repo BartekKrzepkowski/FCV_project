{
 "cells": [
  {
   "cell_type": "code",
   "execution_count": 23,
   "id": "cb17bb24",
   "metadata": {},
   "outputs": [],
   "source": [
    "import pandas as pd"
   ]
  },
  {
   "cell_type": "code",
   "execution_count": 24,
   "id": "fa9915ab",
   "metadata": {},
   "outputs": [],
   "source": [
    "results_df = pd.read_csv(\"data/opt_lr_wd.csv\")"
   ]
  },
  {
   "cell_type": "code",
   "execution_count": 9,
   "id": "9ba5126b",
   "metadata": {},
   "outputs": [
    {
     "data": {
      "text/plain": [
       "array([False,  True,  True,  True,  True,  True,  True,  True,  True,\n",
       "        True,  True,  True,  True,  True,  True,  True,  True,  True,\n",
       "        True,  True,  True,  True,  True,  True,  True,  True,  True,\n",
       "        True,  True,  True,  True])"
      ]
     },
     "execution_count": 9,
     "metadata": {},
     "output_type": "execute_result"
    }
   ],
   "source": [
    "results_df.columns.str.contains(\"adamw\")  # Check for unnamed columns"
   ]
  },
  {
   "cell_type": "code",
   "execution_count": 37,
   "id": "38bf254f",
   "metadata": {},
   "outputs": [
    {
     "data": {
      "text/plain": [
       "Index(['voices_detection_optim_name='adamw'_lr=0.1_weight_decay=0.1 - epoch_f1score/test',\n",
       "       'voices_detection_optim_name='adamw'_lr=0.1_weight_decay=0.01 - epoch_f1score/test',\n",
       "       'voices_detection_optim_name='adamw'_lr=0.1_weight_decay=0.0 - epoch_f1score/test',\n",
       "       'voices_detection_optim_name='adamw'_lr=0.05_weight_decay=0.1 - epoch_f1score/test',\n",
       "       'voices_detection_optim_name='adamw'_lr=0.05_weight_decay=0.01 - epoch_f1score/test',\n",
       "       'voices_detection_optim_name='adamw'_lr=0.05_weight_decay=0.0 - epoch_f1score/test',\n",
       "       'voices_detection_optim_name='adamw'_lr=0.01_weight_decay=0.1 - epoch_f1score/test',\n",
       "       'voices_detection_optim_name='adamw'_lr=0.01_weight_decay=0.01 - epoch_f1score/test',\n",
       "       'voices_detection_optim_name='adamw'_lr=0.01_weight_decay=0.0 - epoch_f1score/test',\n",
       "       'voices_detection_optim_name='adamw'_lr=0.005_weight_decay=0.1 - epoch_f1score/test',\n",
       "       'voices_detection_optim_name='adamw'_lr=0.005_weight_decay=0.01 - epoch_f1score/test',\n",
       "       'voices_detection_optim_name='adamw'_lr=0.005_weight_decay=0.0 - epoch_f1score/test',\n",
       "       'voices_detection_optim_name='sgd'_lr=0.1_weight_decay=0.1 - epoch_f1score/test',\n",
       "       'voices_detection_optim_name='sgd'_lr=0.1_weight_decay=0.01 - epoch_f1score/test',\n",
       "       'voices_detection_optim_name='sgd'_lr=0.1_weight_decay=0.0 - epoch_f1score/test',\n",
       "       'voices_detection_optim_name='sgd'_lr=0.05_weight_decay=0.1 - epoch_f1score/test',\n",
       "       'voices_detection_optim_name='sgd'_lr=0.05_weight_decay=0.01 - epoch_f1score/test',\n",
       "       'voices_detection_optim_name='sgd'_lr=0.05_weight_decay=0.0 - epoch_f1score/test',\n",
       "       'voices_detection_optim_name='sgd'_lr=0.01_weight_decay=0.1 - epoch_f1score/test',\n",
       "       'voices_detection_optim_name='sgd'_lr=0.01_weight_decay=0.01 - epoch_f1score/test',\n",
       "       'voices_detection_optim_name='sgd'_lr=0.01_weight_decay=0.0 - epoch_f1score/test',\n",
       "       'voices_detection_optim_name='sgd'_lr=0.005_weight_decay=0.1 - epoch_f1score/test',\n",
       "       'voices_detection_optim_name='sgd'_lr=0.005_weight_decay=0.01 - epoch_f1score/test',\n",
       "       'voices_detection_optim_name='sgd'_lr=0.005_weight_decay=0.0 - epoch_f1score/test'],\n",
       "      dtype='object')"
      ]
     },
     "execution_count": 37,
     "metadata": {},
     "output_type": "execute_result"
    }
   ],
   "source": [
    "results_df.columns[results_df.columns.str.endswith(\"test\")]"
   ]
  },
  {
   "cell_type": "code",
   "execution_count": 60,
   "id": "9a940ac6",
   "metadata": {},
   "outputs": [],
   "source": [
    "flat_f1 = results_df.iloc[:, results_df.columns.str.endswith(\"test\")].max()"
   ]
  },
  {
   "cell_type": "code",
   "execution_count": null,
   "id": "b584f8d0",
   "metadata": {},
   "outputs": [
    {
     "data": {
      "text/plain": [
       "pandas.core.series.Series"
      ]
     },
     "execution_count": 63,
     "metadata": {},
     "output_type": "execute_result"
    }
   ],
   "source": [
    "flat_f1"
   ]
  },
  {
   "cell_type": "code",
   "execution_count": 79,
   "id": "b533ad72",
   "metadata": {},
   "outputs": [],
   "source": [
    "flat_f1_adamw = flat_f1[flat_f1.index.str.contains(\"adamw\")]\n",
    "flat_f1_sgd = flat_f1[flat_f1.index.str.contains(\"sgd\")]"
   ]
  },
  {
   "cell_type": "code",
   "execution_count": 84,
   "id": "d0fd528c",
   "metadata": {},
   "outputs": [
    {
     "data": {
      "text/plain": [
       "Index(['voices_detection_optim_name='sgd'_lr=0.1_weight_decay=0.1 - epoch_f1score/test',\n",
       "       'voices_detection_optim_name='sgd'_lr=0.1_weight_decay=0.01 - epoch_f1score/test',\n",
       "       'voices_detection_optim_name='sgd'_lr=0.1_weight_decay=0.0 - epoch_f1score/test',\n",
       "       'voices_detection_optim_name='sgd'_lr=0.05_weight_decay=0.1 - epoch_f1score/test',\n",
       "       'voices_detection_optim_name='sgd'_lr=0.05_weight_decay=0.01 - epoch_f1score/test',\n",
       "       'voices_detection_optim_name='sgd'_lr=0.05_weight_decay=0.0 - epoch_f1score/test',\n",
       "       'voices_detection_optim_name='sgd'_lr=0.01_weight_decay=0.1 - epoch_f1score/test',\n",
       "       'voices_detection_optim_name='sgd'_lr=0.01_weight_decay=0.01 - epoch_f1score/test',\n",
       "       'voices_detection_optim_name='sgd'_lr=0.01_weight_decay=0.0 - epoch_f1score/test',\n",
       "       'voices_detection_optim_name='sgd'_lr=0.005_weight_decay=0.1 - epoch_f1score/test',\n",
       "       'voices_detection_optim_name='sgd'_lr=0.005_weight_decay=0.01 - epoch_f1score/test',\n",
       "       'voices_detection_optim_name='sgd'_lr=0.005_weight_decay=0.0 - epoch_f1score/test'],\n",
       "      dtype='object')"
      ]
     },
     "execution_count": 84,
     "metadata": {},
     "output_type": "execute_result"
    }
   ],
   "source": [
    "flat_f1_sgd.index"
   ]
  },
  {
   "cell_type": "code",
   "execution_count": null,
   "id": "0bf5b98e",
   "metadata": {},
   "outputs": [
    {
     "data": {
      "application/vnd.microsoft.datawrangler.viewer.v0+json": {
       "columns": [
        {
         "name": "index",
         "rawType": "object",
         "type": "string"
        },
        {
         "name": "0",
         "rawType": "float64",
         "type": "float"
        }
       ],
       "ref": "018ab8ff-ba05-4d80-881e-b7baec736de0",
       "rows": [
        [
         "voices_detection_optim_name='adamw'_lr=0.005_weight_decay=0.1 - epoch_f1score/test",
         "0.97744"
        ],
        [
         "voices_detection_optim_name='adamw'_lr=0.01_weight_decay=0.1 - epoch_f1score/test",
         "0.9712"
        ],
        [
         "voices_detection_optim_name='adamw'_lr=0.01_weight_decay=0.01 - epoch_f1score/test",
         "0.95541"
        ],
        [
         "voices_detection_optim_name='adamw'_lr=0.01_weight_decay=0.0 - epoch_f1score/test",
         "0.95484"
        ],
        [
         "voices_detection_optim_name='adamw'_lr=0.005_weight_decay=0.0 - epoch_f1score/test",
         "0.95233"
        ],
        [
         "voices_detection_optim_name='adamw'_lr=0.005_weight_decay=0.01 - epoch_f1score/test",
         "0.95"
        ],
        [
         "voices_detection_optim_name='adamw'_lr=0.05_weight_decay=0.0 - epoch_f1score/test",
         "0.94633"
        ],
        [
         "voices_detection_optim_name='adamw'_lr=0.1_weight_decay=0.1 - epoch_f1score/test",
         "0.20533"
        ],
        [
         "voices_detection_optim_name='adamw'_lr=0.1_weight_decay=0.01 - epoch_f1score/test",
         "0.20533"
        ],
        [
         "voices_detection_optim_name='adamw'_lr=0.1_weight_decay=0.0 - epoch_f1score/test",
         "0.20533"
        ],
        [
         "voices_detection_optim_name='adamw'_lr=0.05_weight_decay=0.1 - epoch_f1score/test",
         "0.20533"
        ],
        [
         "voices_detection_optim_name='adamw'_lr=0.05_weight_decay=0.01 - epoch_f1score/test",
         "0.20533"
        ]
       ],
       "shape": {
        "columns": 1,
        "rows": 12
       }
      },
      "text/plain": [
       "voices_detection_optim_name='adamw'_lr=0.005_weight_decay=0.1 - epoch_f1score/test     0.97744\n",
       "voices_detection_optim_name='adamw'_lr=0.01_weight_decay=0.1 - epoch_f1score/test      0.97120\n",
       "voices_detection_optim_name='adamw'_lr=0.01_weight_decay=0.01 - epoch_f1score/test     0.95541\n",
       "voices_detection_optim_name='adamw'_lr=0.01_weight_decay=0.0 - epoch_f1score/test      0.95484\n",
       "voices_detection_optim_name='adamw'_lr=0.005_weight_decay=0.0 - epoch_f1score/test     0.95233\n",
       "voices_detection_optim_name='adamw'_lr=0.005_weight_decay=0.01 - epoch_f1score/test    0.95000\n",
       "voices_detection_optim_name='adamw'_lr=0.05_weight_decay=0.0 - epoch_f1score/test      0.94633\n",
       "voices_detection_optim_name='adamw'_lr=0.1_weight_decay=0.1 - epoch_f1score/test       0.20533\n",
       "voices_detection_optim_name='adamw'_lr=0.1_weight_decay=0.01 - epoch_f1score/test      0.20533\n",
       "voices_detection_optim_name='adamw'_lr=0.1_weight_decay=0.0 - epoch_f1score/test       0.20533\n",
       "voices_detection_optim_name='adamw'_lr=0.05_weight_decay=0.1 - epoch_f1score/test      0.20533\n",
       "voices_detection_optim_name='adamw'_lr=0.05_weight_decay=0.01 - epoch_f1score/test     0.20533\n",
       "dtype: float64"
      ]
     },
     "execution_count": 81,
     "metadata": {},
     "output_type": "execute_result"
    }
   ],
   "source": [
    "flat_f1_adamw.sort_values(asce"
   ]
  },
  {
   "cell_type": "code",
   "execution_count": 85,
   "id": "711b1959",
   "metadata": {},
   "outputs": [
    {
     "data": {
      "application/vnd.microsoft.datawrangler.viewer.v0+json": {
       "columns": [
        {
         "name": "index",
         "rawType": "object",
         "type": "string"
        },
        {
         "name": "0",
         "rawType": "float64",
         "type": "float"
        }
       ],
       "ref": "cf5a8800-0f9f-4827-b4bf-1d197c8c7a79",
       "rows": [
        [
         "voices_detection_optim_name='sgd'_lr=0.1_weight_decay=0.1 - epoch_f1score/test",
         "0.94421"
        ],
        [
         "voices_detection_optim_name='sgd'_lr=0.1_weight_decay=0.01 - epoch_f1score/test",
         "0.98089"
        ],
        [
         "voices_detection_optim_name='sgd'_lr=0.1_weight_decay=0.0 - epoch_f1score/test",
         "0.94595"
        ],
        [
         "voices_detection_optim_name='sgd'_lr=0.05_weight_decay=0.1 - epoch_f1score/test",
         "0.95163"
        ],
        [
         "voices_detection_optim_name='sgd'_lr=0.05_weight_decay=0.01 - epoch_f1score/test",
         "0.9625"
        ],
        [
         "voices_detection_optim_name='sgd'_lr=0.05_weight_decay=0.0 - epoch_f1score/test",
         "0.95425"
        ],
        [
         "voices_detection_optim_name='sgd'_lr=0.01_weight_decay=0.1 - epoch_f1score/test",
         "0.96203"
        ],
        [
         "voices_detection_optim_name='sgd'_lr=0.01_weight_decay=0.01 - epoch_f1score/test",
         "0.96855"
        ],
        [
         "voices_detection_optim_name='sgd'_lr=0.01_weight_decay=0.0 - epoch_f1score/test",
         "0.95172"
        ],
        [
         "voices_detection_optim_name='sgd'_lr=0.005_weight_decay=0.1 - epoch_f1score/test",
         "0.96203"
        ],
        [
         "voices_detection_optim_name='sgd'_lr=0.005_weight_decay=0.01 - epoch_f1score/test",
         "0.95233"
        ],
        [
         "voices_detection_optim_name='sgd'_lr=0.005_weight_decay=0.0 - epoch_f1score/test",
         "0.95788"
        ]
       ],
       "shape": {
        "columns": 1,
        "rows": 12
       }
      },
      "text/plain": [
       "voices_detection_optim_name='sgd'_lr=0.1_weight_decay=0.1 - epoch_f1score/test       0.94421\n",
       "voices_detection_optim_name='sgd'_lr=0.1_weight_decay=0.01 - epoch_f1score/test      0.98089\n",
       "voices_detection_optim_name='sgd'_lr=0.1_weight_decay=0.0 - epoch_f1score/test       0.94595\n",
       "voices_detection_optim_name='sgd'_lr=0.05_weight_decay=0.1 - epoch_f1score/test      0.95163\n",
       "voices_detection_optim_name='sgd'_lr=0.05_weight_decay=0.01 - epoch_f1score/test     0.96250\n",
       "voices_detection_optim_name='sgd'_lr=0.05_weight_decay=0.0 - epoch_f1score/test      0.95425\n",
       "voices_detection_optim_name='sgd'_lr=0.01_weight_decay=0.1 - epoch_f1score/test      0.96203\n",
       "voices_detection_optim_name='sgd'_lr=0.01_weight_decay=0.01 - epoch_f1score/test     0.96855\n",
       "voices_detection_optim_name='sgd'_lr=0.01_weight_decay=0.0 - epoch_f1score/test      0.95172\n",
       "voices_detection_optim_name='sgd'_lr=0.005_weight_decay=0.1 - epoch_f1score/test     0.96203\n",
       "voices_detection_optim_name='sgd'_lr=0.005_weight_decay=0.01 - epoch_f1score/test    0.95233\n",
       "voices_detection_optim_name='sgd'_lr=0.005_weight_decay=0.0 - epoch_f1score/test     0.95788\n",
       "dtype: float64"
      ]
     },
     "execution_count": 85,
     "metadata": {},
     "output_type": "execute_result"
    }
   ],
   "source": [
    "flat_f1_sgd"
   ]
  },
  {
   "cell_type": "code",
   "execution_count": null,
   "id": "413da4a6",
   "metadata": {},
   "outputs": [
    {
     "data": {
      "text/plain": [
       "array([[0.20533, 0.20533, 0.20533],\n",
       "       [0.20533, 0.20533, 0.94633],\n",
       "       [0.9712 , 0.95541, 0.95484],\n",
       "       [0.97744, 0.95   , 0.95233]])"
      ]
     },
     "execution_count": 75,
     "metadata": {},
     "output_type": "execute_result"
    }
   ],
   "source": [
    "flat_f1_adamw.values.reshape(4,3)\n",
    "\n",
    "lr = [5e-3, 1e-2, 5e-2, 1e-1]\n",
    "wd = [0.0, 1e-2, 1e-1]"
   ]
  },
  {
   "cell_type": "code",
   "execution_count": 48,
   "id": "e7e695ed",
   "metadata": {},
   "outputs": [],
   "source": [
    "import pandas as pd\n",
    "import re\n",
    "PATTERN = re.compile(\n",
    "    r'(?P<opt>\\w+)_lr(?P<lr>[0-9.]+)_wd(?P<wd>[0-9.]+)', re.I\n",
    ")\n",
    "\n",
    "meta = (\n",
    "    pd.DataFrame(df.columns)\n",
    "      .rename(columns={0: \"col\"})\n",
    "      .assign(**df.columns.to_series().str.extract(PATTERN))\n",
    "      .astype({\"lr\": \"float\", \"wd\": \"float\"})\n",
    ")\n",
    "\n"
   ]
  },
  {
   "cell_type": "code",
   "execution_count": 49,
   "id": "577c055e",
   "metadata": {},
   "outputs": [],
   "source": [
    "def build_matrix(opt_name: str) -> pd.DataFrame:\n",
    "    # 4 a –– filtrujemy kolumny konkretnego optymalizatora\n",
    "    m = meta.query(\"opt == @opt_name\")\n",
    "\n",
    "    # 4 b –– przygotowujemy pustą ramkę z osiami lr × wd\n",
    "    lr_vals = sorted(m[\"lr\"].unique())\n",
    "    wd_vals = sorted(m[\"wd\"].unique())\n",
    "    mat = pd.DataFrame(index=lr_vals, columns=wd_vals, dtype=float)\n",
    "\n",
    "    # 4 c –– wypełniamy komórki odpowiednimi wartościami\n",
    "    for _, row in m.iterrows():\n",
    "        col = row[\"col\"]\n",
    "        mat.at[row[\"lr\"], row[\"wd\"]] = df[col].values  # zakładamy 1 wiersz;\n",
    "                                                       # w przeciwnym razie np. .mean()\n",
    "    return mat\n"
   ]
  },
  {
   "cell_type": "code",
   "execution_count": 50,
   "id": "546cdefe",
   "metadata": {},
   "outputs": [
    {
     "ename": "KeyError",
     "evalue": "'adamw'",
     "output_type": "error",
     "traceback": [
      "\u001b[31m---------------------------------------------------------------------------\u001b[39m",
      "\u001b[31mKeyError\u001b[39m                                  Traceback (most recent call last)",
      "\u001b[36mCell\u001b[39m\u001b[36m \u001b[39m\u001b[32mIn[50]\u001b[39m\u001b[32m, line 4\u001b[39m\n\u001b[32m      1\u001b[39m optimizers = meta[\u001b[33m\"\u001b[39m\u001b[33mopt\u001b[39m\u001b[33m\"\u001b[39m].unique()        \u001b[38;5;66;03m# np. ['adam', 'sgd']\u001b[39;00m\n\u001b[32m      2\u001b[39m matrices = {opt: build_matrix(opt) \u001b[38;5;28;01mfor\u001b[39;00m opt \u001b[38;5;129;01min\u001b[39;00m optimizers}\n\u001b[32m----> \u001b[39m\u001b[32m4\u001b[39m matrix_adam = \u001b[43mmatrices\u001b[49m\u001b[43m[\u001b[49m\u001b[33;43m\"\u001b[39;49m\u001b[33;43madamw\u001b[39;49m\u001b[33;43m\"\u001b[39;49m\u001b[43m]\u001b[49m\n\u001b[32m      5\u001b[39m matrix_sgd  = matrices[\u001b[33m\"\u001b[39m\u001b[33msgd\u001b[39m\u001b[33m\"\u001b[39m]\n",
      "\u001b[31mKeyError\u001b[39m: 'adamw'"
     ]
    }
   ],
   "source": [
    "optimizers = meta[\"opt\"].unique()        # np. ['adam', 'sgd']\n",
    "matrices = {opt: build_matrix(opt) for opt in optimizers}\n",
    "\n",
    "matrix_adam = matrices[\"adamw\"]\n",
    "matrix_sgd  = matrices[\"sgd\"]\n"
   ]
  },
  {
   "cell_type": "code",
   "execution_count": 51,
   "id": "42e3459c",
   "metadata": {},
   "outputs": [
    {
     "data": {
      "text/plain": [
       "{nan: Empty DataFrame\n",
       " Columns: []\n",
       " Index: []}"
      ]
     },
     "execution_count": 51,
     "metadata": {},
     "output_type": "execute_result"
    }
   ],
   "source": [
    "matrices"
   ]
  },
  {
   "cell_type": "code",
   "execution_count": null,
   "id": "eb437538",
   "metadata": {},
   "outputs": [],
   "source": [
    "import pandas as pd\n",
    "import numpy as np\n",
    "import matplotlib.pyplot as plt\n",
    "\n",
    "# --- PRZYKŁADOWA MACIERZ (symuluje Twoje wyniki) ---\n",
    "learning_rates = [1e-4, 1e-3, 1e-2, 1e-1]\n",
    "weight_decays  = [0.0, 1e-5, 1e-4, 1e-3]\n",
    "\n",
    "# losowe dane tylko do demonstracji\n",
    "rng = np.random.default_rng(seed=42)\n",
    "vals = rng.random((len(learning_rates), len(weight_decays)))\n",
    "\n",
    "matrix = pd.DataFrame(vals, index=learning_rates, columns=weight_decays)\n",
    "\n",
    "# --- WIZUALIZACJA ---\n",
    "plt.figure(figsize=(6, 5))\n",
    "im = plt.imshow(matrix.values, aspect='auto')  # domyślny colormap\n",
    "plt.colorbar(im, label=\"wynik\")                # legenda kolorów\n",
    "\n",
    "# opisy osi\n",
    "plt.xticks(ticks=range(len(weight_decays)), labels=weight_decays)\n",
    "plt.yticks(ticks=range(len(learning_rates)), labels=learning_rates)\n",
    "plt.xlabel(\"weight decay\")\n",
    "plt.ylabel(\"learning rate\")\n",
    "plt.title(\"Przykładowa macierz wyników\")\n",
    "\n",
    "plt.tight_layout()\n",
    "plt.show()\n"
   ]
  },
  {
   "cell_type": "code",
   "execution_count": 68,
   "id": "872cfa2a",
   "metadata": {},
   "outputs": [],
   "source": [
    "import pandas as pd\n",
    "import numpy as np\n",
    "import matplotlib.pyplot as plt\n",
    "# --- PRZYKŁADOWA MACIERZ (symuluje Twoje wyniki) ---\n",
    "learning_rates = [1e-4, 1e-3, 1e-2, 1e-1]\n",
    "weight_decays  = [0.0, 1e-5, 1e-4, 1e-3]\n",
    "\n",
    "# losowe dane tylko do demonstracji\n",
    "rng = np.random.default_rng(seed=42)\n",
    "vals = rng.random((len(learning_rates), len(weight_decays)))"
   ]
  },
  {
   "cell_type": "code",
   "execution_count": 71,
   "id": "e30ad693",
   "metadata": {},
   "outputs": [
    {
     "data": {
      "text/plain": [
       "array([[0.77395605, 0.43887844, 0.85859792, 0.69736803],\n",
       "       [0.09417735, 0.97562235, 0.7611397 , 0.78606431],\n",
       "       [0.12811363, 0.45038594, 0.37079802, 0.92676499],\n",
       "       [0.64386512, 0.82276161, 0.4434142 , 0.22723872]])"
      ]
     },
     "execution_count": 71,
     "metadata": {},
     "output_type": "execute_result"
    }
   ],
   "source": [
    "vals"
   ]
  },
  {
   "cell_type": "code",
   "execution_count": null,
   "id": "392a2cb6",
   "metadata": {},
   "outputs": [],
   "source": []
  }
 ],
 "metadata": {
  "kernelspec": {
   "display_name": "clpi_env",
   "language": "python",
   "name": "python3"
  },
  "language_info": {
   "codemirror_mode": {
    "name": "ipython",
    "version": 3
   },
   "file_extension": ".py",
   "mimetype": "text/x-python",
   "name": "python",
   "nbconvert_exporter": "python",
   "pygments_lexer": "ipython3",
   "version": "3.10.14"
  }
 },
 "nbformat": 4,
 "nbformat_minor": 5
}
